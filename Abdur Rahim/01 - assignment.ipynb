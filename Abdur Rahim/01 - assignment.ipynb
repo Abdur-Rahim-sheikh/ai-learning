{
 "cells": [
  {
   "cell_type": "markdown",
   "id": "fc4733d9",
   "metadata": {},
   "source": [
    "<h3>Make a fake dataset:\n",
    "\n",
    "\n",
    "1000 rows\n",
    "3 columns\n",
    "1st column will contain random float numbers 0 to 100\n",
    "2nd column will contain random integer numbers 0 to 100\n",
    "3rd column will contain random alphabet a-z</h3>"
   ]
  },
  {
   "cell_type": "code",
   "execution_count": 30,
   "id": "e8865a3c",
   "metadata": {},
   "outputs": [],
   "source": [
    "import numpy as np\n",
    "col1 = np.random.random(10)*100\n",
    "col2 = np.random.randint(0,101,10)\n",
    "col3 = [chr(x+ord('a')) for x in np.random.randint(0,26,10)]\n",
    "# col3 = np.asarray(col3)\n"
   ]
  },
  {
   "cell_type": "code",
   "execution_count": 46,
   "id": "c83d3fd9",
   "metadata": {},
   "outputs": [
    {
     "data": {
      "text/plain": [
       "array([['26.99768328740223', '26', 'k'],\n",
       "       ['25.08345737603096', '11', 'm'],\n",
       "       ['55.60050701751683', '34', 'y'],\n",
       "       ['30.479234732963466', '74', 'e'],\n",
       "       ['27.353155328714774', '95', 'n'],\n",
       "       ['10.280277208475264', '56', 's'],\n",
       "       ['53.66079665285537', '2', 'x'],\n",
       "       ['7.76029727449099', '84', 'f'],\n",
       "       ['49.54769478040938', '53', 'm'],\n",
       "       ['0.5442539928933621', '51', 'p']], dtype='<U32')"
      ]
     },
     "execution_count": 46,
     "metadata": {},
     "output_type": "execute_result"
    }
   ],
   "source": [
    "col1 = np.atleast_2d(col1)\n",
    "col2 = np.atleast_2d(col2)\n",
    "col3 = np.atleast_2d(col3)\n",
    "# print(col1,col2,col3)\n",
    "newArray = np.hstack((col1.T,col2.T,col3.T))\n",
    "newArray"
   ]
  },
  {
   "cell_type": "code",
   "execution_count": null,
   "id": "1f4ef3e2",
   "metadata": {},
   "outputs": [],
   "source": []
  }
 ],
 "metadata": {
  "kernelspec": {
   "display_name": "Python 3 (ipykernel)",
   "language": "python",
   "name": "python3"
  },
  "language_info": {
   "codemirror_mode": {
    "name": "ipython",
    "version": 3
   },
   "file_extension": ".py",
   "mimetype": "text/x-python",
   "name": "python",
   "nbconvert_exporter": "python",
   "pygments_lexer": "ipython3",
   "version": "3.9.4"
  }
 },
 "nbformat": 4,
 "nbformat_minor": 5
}
