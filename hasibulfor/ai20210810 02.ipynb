{
 "cells": [
  {
   "cell_type": "code",
   "execution_count": 1,
   "id": "8dc0115c",
   "metadata": {},
   "outputs": [],
   "source": [
    "import numpy as np"
   ]
  },
  {
   "cell_type": "code",
   "execution_count": 2,
   "id": "7ab357de",
   "metadata": {},
   "outputs": [],
   "source": [
    "color = np.dtype([(\"r\", np.ubyte),\n",
    "                  (\"g\", np.ubyte),\n",
    "                  (\"b\", np.ubyte),\n",
    "                  (\"a\", np.ubyte)])"
   ]
  },
  {
   "cell_type": "code",
   "execution_count": 8,
   "id": "04cd710a",
   "metadata": {},
   "outputs": [
    {
     "data": {
      "text/plain": [
       "array([[ 3.],\n",
       "       [12.],\n",
       "       [21.],\n",
       "       [30.],\n",
       "       [39.]])"
      ]
     },
     "execution_count": 8,
     "metadata": {},
     "output_type": "execute_result"
    }
   ],
   "source": [
    "a = np.arange(15).reshape(5,3)\n",
    "np.dot(a, np.ones((3,1)))"
   ]
  },
  {
   "cell_type": "code",
   "execution_count": 10,
   "id": "467db2d2",
   "metadata": {},
   "outputs": [
    {
     "data": {
      "text/plain": [
       "array([ 0,  1,  2,  3, -4, -5, -6, -7,  8,  9, 10])"
      ]
     },
     "execution_count": 10,
     "metadata": {},
     "output_type": "execute_result"
    }
   ],
   "source": [
    "b = np.arange(11)\n",
    "b[(b > 3) & (b < 8)] *= -1\n",
    "b"
   ]
  },
  {
   "cell_type": "code",
   "execution_count": 11,
   "id": "2db7fd46",
   "metadata": {},
   "outputs": [
    {
     "name": "stdout",
     "output_type": "stream",
     "text": [
      "9\n"
     ]
    }
   ],
   "source": [
    "print(sum(range(5),-1))"
   ]
  },
  {
   "cell_type": "code",
   "execution_count": 12,
   "id": "76bc3dd1",
   "metadata": {},
   "outputs": [],
   "source": [
    "from numpy import *"
   ]
  },
  {
   "cell_type": "code",
   "execution_count": 13,
   "id": "87090044",
   "metadata": {},
   "outputs": [
    {
     "name": "stdout",
     "output_type": "stream",
     "text": [
      "10\n"
     ]
    }
   ],
   "source": [
    "print(sum(range(5),-1))"
   ]
  },
  {
   "cell_type": "code",
   "execution_count": 16,
   "id": "21ff66aa",
   "metadata": {},
   "outputs": [
    {
     "data": {
      "text/plain": [
       "27"
      ]
     },
     "execution_count": 16,
     "metadata": {},
     "output_type": "execute_result"
    }
   ],
   "source": [
    "c = 3\n",
    "c**c"
   ]
  },
  {
   "cell_type": "code",
   "execution_count": 20,
   "id": "ad86bde8",
   "metadata": {},
   "outputs": [
    {
     "data": {
      "text/plain": [
       "16"
      ]
     },
     "execution_count": 20,
     "metadata": {},
     "output_type": "execute_result"
    }
   ],
   "source": [
    "2 << c"
   ]
  },
  {
   "cell_type": "code",
   "execution_count": 21,
   "id": "27bb7873",
   "metadata": {},
   "outputs": [
    {
     "data": {
      "text/plain": [
       "0"
      ]
     },
     "execution_count": 21,
     "metadata": {},
     "output_type": "execute_result"
    }
   ],
   "source": [
    "c >> 2"
   ]
  },
  {
   "cell_type": "code",
   "execution_count": 22,
   "id": "7bcc8a75",
   "metadata": {},
   "outputs": [
    {
     "data": {
      "text/plain": [
       "4"
      ]
     },
     "execution_count": 22,
     "metadata": {},
     "output_type": "execute_result"
    }
   ],
   "source": [
    "2 << c >> 2"
   ]
  },
  {
   "cell_type": "code",
   "execution_count": 23,
   "id": "17c82608",
   "metadata": {},
   "outputs": [
    {
     "data": {
      "text/plain": [
       "False"
      ]
     },
     "execution_count": 23,
     "metadata": {},
     "output_type": "execute_result"
    }
   ],
   "source": [
    "c <- c"
   ]
  },
  {
   "cell_type": "code",
   "execution_count": 24,
   "id": "0c648777",
   "metadata": {},
   "outputs": [
    {
     "data": {
      "text/plain": [
       "1j"
      ]
     },
     "execution_count": 24,
     "metadata": {},
     "output_type": "execute_result"
    }
   ],
   "source": [
    "1j"
   ]
  },
  {
   "cell_type": "code",
   "execution_count": 25,
   "id": "f96a4d2e",
   "metadata": {},
   "outputs": [
    {
     "data": {
      "text/plain": [
       "3j"
      ]
     },
     "execution_count": 25,
     "metadata": {},
     "output_type": "execute_result"
    }
   ],
   "source": [
    "1j*c"
   ]
  },
  {
   "cell_type": "code",
   "execution_count": 28,
   "id": "e88f95f3",
   "metadata": {},
   "outputs": [
    {
     "data": {
      "text/plain": [
       "3.0"
      ]
     },
     "execution_count": 28,
     "metadata": {},
     "output_type": "execute_result"
    }
   ],
   "source": [
    "c/1/1"
   ]
  },
  {
   "cell_type": "code",
   "execution_count": 30,
   "id": "5e311db5",
   "metadata": {},
   "outputs": [
    {
     "data": {
      "text/plain": [
       "False"
      ]
     },
     "execution_count": 30,
     "metadata": {},
     "output_type": "execute_result"
    }
   ],
   "source": [
    "c<c>c"
   ]
  },
  {
   "cell_type": "code",
   "execution_count": null,
   "id": "f86b9010",
   "metadata": {},
   "outputs": [],
   "source": []
  }
 ],
 "metadata": {
  "kernelspec": {
   "display_name": "Python 3",
   "language": "python",
   "name": "python3"
  },
  "language_info": {
   "codemirror_mode": {
    "name": "ipython",
    "version": 3
   },
   "file_extension": ".py",
   "mimetype": "text/x-python",
   "name": "python",
   "nbconvert_exporter": "python",
   "pygments_lexer": "ipython3",
   "version": "3.8.8"
  }
 },
 "nbformat": 4,
 "nbformat_minor": 5
}
